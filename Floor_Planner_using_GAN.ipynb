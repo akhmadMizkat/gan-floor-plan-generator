{
  "nbformat": 4,
  "nbformat_minor": 0,
  "metadata": {
    "colab": {
      "provenance": [],
      "gpuType": "T4",
      "include_colab_link": true
    },
    "kernelspec": {
      "name": "python3",
      "display_name": "Python 3"
    },
    "accelerator": "GPU",
    "gpuClass": "standard"
  },
  "cells": [
    {
      "cell_type": "markdown",
      "metadata": {
        "id": "view-in-github",
        "colab_type": "text"
      },
      "source": [
        "<a href=\"https://colab.research.google.com/github/akhmadMizkat/gan-floor-plan-generator/blob/main/Floor_Planner_using_GAN.ipynb\" target=\"_parent\"><img src=\"https://colab.research.google.com/assets/colab-badge.svg\" alt=\"Open In Colab\"/></a>"
      ]
    },
    {
      "cell_type": "code",
      "source": [
        "from google.colab import drive\n",
        "drive.mount('/content/drive')"
      ],
      "metadata": {
        "colab": {
          "base_uri": "https://localhost:8080/"
        },
        "id": "WCEB7fTgRqGu",
        "outputId": "f8275c53-8d58-4bba-e599-606005608b4e"
      },
      "execution_count": null,
      "outputs": [
        {
          "output_type": "stream",
          "name": "stdout",
          "text": [
            "Drive already mounted at /content/drive; to attempt to forcibly remount, call drive.mount(\"/content/drive\", force_remount=True).\n"
          ]
        }
      ]
    },
    {
      "cell_type": "markdown",
      "metadata": {
        "id": "ePyPgA-nd0yG"
      },
      "source": [
        "# Import statements"
      ]
    },
    {
      "cell_type": "code",
      "metadata": {
        "id": "vGlgrmDNd0T4"
      },
      "source": [
        "import torch\n",
        "from torchvision import transforms, datasets\n",
        "import torch.nn as nn\n",
        "from torch import optim as optim\n",
        "import pandas as pd\n",
        "import copy\n",
        "import albumentations as A\n",
        "from albumentations.pytorch import ToTensorV2\n",
        "import numpy as np\n",
        "\n",
        "import matplotlib.pyplot as plt"
      ],
      "execution_count": null,
      "outputs": []
    },
    {
      "cell_type": "code",
      "source": [
        "torch.multiprocessing.set_start_method('spawn')"
      ],
      "metadata": {
        "id": "bPSa8e5qgtqR"
      },
      "execution_count": null,
      "outputs": []
    },
    {
      "cell_type": "markdown",
      "metadata": {
        "id": "O0pJjIAed8JP"
      },
      "source": [
        "# Select Device"
      ]
    },
    {
      "cell_type": "code",
      "metadata": {
        "id": "1I44mJWydmxT",
        "colab": {
          "base_uri": "https://localhost:8080/"
        },
        "outputId": "c44d19d2-3f25-400e-cb30-96b729d7cff8"
      },
      "source": [
        "device = torch.device(\"cuda\" if torch.cuda.is_available() else \"cpu\")\n",
        "print(device)"
      ],
      "execution_count": null,
      "outputs": [
        {
          "output_type": "stream",
          "name": "stdout",
          "text": [
            "cuda\n"
          ]
        }
      ]
    },
    {
      "cell_type": "markdown",
      "source": [
        "# Initiate Data Loader"
      ],
      "metadata": {
        "id": "xBHMaww0MSoJ"
      }
    },
    {
      "cell_type": "code",
      "source": [
        "from torch.utils.data import DataLoader, Dataset\n",
        "import cv2\n",
        "import glob\n",
        "from pandas.core.common import flatten\n",
        "import random"
      ],
      "metadata": {
        "id": "3RvO-7XyMSP8"
      },
      "execution_count": null,
      "outputs": []
    },
    {
      "cell_type": "code",
      "source": [
        "import PIL\n",
        "from PIL import Image\n"
      ],
      "metadata": {
        "id": "t2YqMzRC5zXT"
      },
      "execution_count": null,
      "outputs": []
    },
    {
      "cell_type": "code",
      "source": [
        "train_data_path = '/content/drive/MyDrive/floor-planer-cgan/images/train/CLEAN_PIC_64' \n",
        "\n",
        "train_image_paths = [] #to store image paths in list\n",
        "train_metadata = [] #to store metadata used in conditional gan\n",
        "\n",
        "raw_metadata = pd.read_csv(train_data_path + '/' + 'metadata.csv')\n",
        "for data_path in glob.glob(train_data_path + '/*.png'):\n",
        "  id = int(data_path.split('/')[-1].split(\".\")[0])\n",
        "  \n",
        "  train_metadata.append(raw_metadata[raw_metadata[\"Unnamed: 0\"] == 592].to_numpy()[0][1:]) # [1:] agar index tidak dimasukan pada metadata\n",
        "  train_image_paths.append(data_path)\n",
        "\n",
        "print('train_image_path example: ', train_image_paths[0])\n",
        "print('metadata example: ', train_metadata[0])"
      ],
      "metadata": {
        "colab": {
          "base_uri": "https://localhost:8080/"
        },
        "id": "SYFVsqX9Oe7U",
        "outputId": "ff415369-bbef-4d95-9297-205ff3cf734d"
      },
      "execution_count": null,
      "outputs": [
        {
          "output_type": "stream",
          "name": "stdout",
          "text": [
            "train_image_path example:  /content/drive/MyDrive/floor-planer-cgan/images/train/CLEAN_PIC_64/28124.png\n",
            "metadata example:  [ 2  1  7  3  0 -1 -1 -1]\n"
          ]
        }
      ]
    },
    {
      "cell_type": "code",
      "source": [],
      "metadata": {
        "id": "5tFzzDGwCStu"
      },
      "execution_count": null,
      "outputs": []
    },
    {
      "cell_type": "code",
      "source": [
        "class FloorPlanDataset(Dataset):\n",
        "    def __init__(self, image_paths, metadata, transform=None):\n",
        "        self.image_paths = image_paths\n",
        "        self.metadata = metadata\n",
        "        self.transform = transform\n",
        "        \n",
        "    def __len__(self):\n",
        "        return len(self.image_paths)\n",
        "\n",
        "    def __getitem__(self, idx):\n",
        "        image_filepath = self.image_paths[idx]\n",
        "        image = cv2.imread(image_filepath)\n",
        "        image = cv2.cvtColor(image, cv2.COLOR_BGR2RGB)\n",
        "        \n",
        "        metadata = self.metadata[idx]\n",
        "        if self.transform is not None:\n",
        "            image = self.transform(image=image)[\"image\"]\n",
        "        \n",
        "        return image, metadata"
      ],
      "metadata": {
        "id": "FLHMVk_DMjVf"
      },
      "execution_count": null,
      "outputs": []
    },
    {
      "cell_type": "markdown",
      "metadata": {
        "id": "WnO0O9K2P3QZ"
      },
      "source": [
        "# Load dataset and declare training parameters"
      ]
    },
    {
      "cell_type": "code",
      "metadata": {
        "id": "yGvGwmtNXL6S"
      },
      "source": [
        "from torch.utils.data.dataloader import default_collate\n",
        "\n",
        "training_parameters = {\n",
        "    \"n_epochs\": 100,\n",
        "    \"batch_size\": 100,\n",
        "}\n",
        "\n",
        "# bulatkan, jangan ada batch dibawah batch size\n",
        "train_image_paths = train_image_paths[:-(len(train_image_paths) % training_parameters[\"batch_size\"])]\n",
        "train_metadata = train_metadata[:-(len(train_metadata) % training_parameters[\"batch_size\"])]\n",
        "\n",
        "train_dataset = FloorPlanDataset(train_image_paths, train_metadata, transform=None)\n",
        "\n",
        "data_loader = DataLoader(\n",
        "    train_dataset, batch_size=training_parameters[\"batch_size\"], shuffle=False,\n",
        "    collate_fn=lambda x: tuple(x_.to(device) for x_ in default_collate(x))\n",
        ")"
      ],
      "execution_count": null,
      "outputs": []
    },
    {
      "cell_type": "code",
      "metadata": {
        "id": "uo1RcVFSaT6R",
        "colab": {
          "base_uri": "https://localhost:8080/"
        },
        "outputId": "b1ee0cfb-7035-4f10-f925-4880c79b3718"
      },
      "source": [
        "num_batches = len(data_loader)\n",
        "print(\"Number of batches: \",num_batches)"
      ],
      "execution_count": null,
      "outputs": [
        {
          "output_type": "stream",
          "name": "stdout",
          "text": [
            "Number of batches:  25\n"
          ]
        }
      ]
    },
    {
      "cell_type": "markdown",
      "metadata": {
        "id": "upuWTpqEQMJG"
      },
      "source": [
        "# Display an image"
      ]
    },
    {
      "cell_type": "code",
      "source": [
        "#######################################################\n",
        "#                  Visualize Dataset\n",
        "#         Images are plotted after augmentation\n",
        "#######################################################\n",
        "\n",
        "def visualize_floors(dataset, idx=0, samples=10, cols=5, random_img = False):\n",
        "    \n",
        "    dataset = copy.deepcopy(dataset)\n",
        "    #we remove the normalize and tensor conversion from our augmentation pipeline\n",
        "    # dataset.transform = A.Compose([t for t in dataset.transform if not isinstance(t, (A.Normalize, ToTensorV2))])\n",
        "    rows = samples // cols\n",
        "    \n",
        "        \n",
        "    figure, ax = plt.subplots(nrows=rows, ncols=cols, figsize=(12, 8))\n",
        "    for i in range(samples):\n",
        "        if random_img:\n",
        "            idx = np.random.randint(1,len(train_image_paths))\n",
        "        image, lab = dataset[idx]\n",
        "        ax.ravel()[i].imshow(image)\n",
        "        ax.ravel()[i].set_axis_off()\n",
        "        ax.ravel()[i].set_title(idx)\n",
        "    plt.tight_layout(pad=1)\n",
        "    plt.show()"
      ],
      "metadata": {
        "id": "5xHlu5RAiExh"
      },
      "execution_count": null,
      "outputs": []
    },
    {
      "cell_type": "code",
      "source": [
        "cv2.imread(\"/content/drive/MyDrive/floor-planer-cgan/images/train/CLEAN_PIC_64/10027.png\").shape"
      ],
      "metadata": {
        "colab": {
          "base_uri": "https://localhost:8080/"
        },
        "id": "rbxqtgSXd7Sp",
        "outputId": "3ad7dce9-6ed3-4b0a-faa5-46a1af059332"
      },
      "execution_count": null,
      "outputs": [
        {
          "output_type": "execute_result",
          "data": {
            "text/plain": [
              "(64, 64, 3)"
            ]
          },
          "metadata": {},
          "execution_count": 12
        }
      ]
    },
    {
      "cell_type": "code",
      "source": [
        "visualize_floors(train_dataset,np.random.randint(1,len(train_image_paths)), random_img = True)\n"
      ],
      "metadata": {
        "colab": {
          "base_uri": "https://localhost:8080/",
          "height": 412
        },
        "id": "jBzOFfQYikjp",
        "outputId": "e6998fdf-eddd-407c-df05-914509280bee"
      },
      "execution_count": null,
      "outputs": [
        {
          "output_type": "display_data",
          "data": {
            "text/plain": [
              "<Figure size 1200x800 with 10 Axes>"
            ],
            "image/png": "[encoded data removed]"
          },
          "metadata": {}
        }
      ]
    },
    {
      "cell_type": "markdown",
      "metadata": {
        "id": "q_QwUBQlQSAr"
      },
      "source": [
        "# Define Generator and Discriminator"
      ]
    },
    {
      "cell_type": "code",
      "metadata": {
        "id": "gOvX1SSHa41A",
        "colab": {
          "base_uri": "https://localhost:8080/"
        },
        "outputId": "b1cf3575-de32-4a60-ad19-fba211a566d6"
      },
      "source": [
        "class GeneratorModel(nn.Module):\n",
        "    def __init__(self):\n",
        "        super(GeneratorModel, self).__init__()\n",
        "        input_dim = 256 + 8\n",
        "        output_dim = 64 * 64 * 3\n",
        "\n",
        "        self.meta_embedding = nn.Embedding(8, 10)\n",
        "\n",
        "        self.hidden_layer1 = nn.Sequential(\n",
        "            nn.Linear(input_dim, 512),\n",
        "            nn.LeakyReLU(0.2)\n",
        "        )\n",
        "\n",
        "        self.hidden_layer2 = nn.Sequential(\n",
        "            nn.Linear(512, 1024),\n",
        "            nn.LeakyReLU(0.2)\n",
        "        )\n",
        "\n",
        "        self.hidden_layer3 = nn.Sequential(\n",
        "            nn.Linear(1024, 2048),\n",
        "            nn.LeakyReLU(0.2)\n",
        "        )\n",
        "\n",
        "        self.hidden_layer4 = nn.Sequential(\n",
        "            nn.Linear(2048, output_dim),\n",
        "            nn.Tanh()\n",
        "        )\n",
        "    \n",
        "    def forward(self, x, metadata):\n",
        "        # m = self.meta_embedding(metadata)\n",
        "        x = torch.cat([x, metadata.to(torch.float)], 1)\n",
        "        output = self.hidden_layer1(x)\n",
        "        output = self.hidden_layer2(output)\n",
        "        output = self.hidden_layer3(output)\n",
        "        output = self.hidden_layer4(output)\n",
        "        return output.to(device)\n",
        "\n",
        "class DiscriminatorModel(nn.Module):\n",
        "    def __init__(self):\n",
        "        super(DiscriminatorModel, self).__init__()\n",
        "        input_dim = 3 * (64*64) + 8\n",
        "        output_dim = 1\n",
        "\n",
        "        self.meta_embedding = nn.Embedding(8, 10)\n",
        "\n",
        "        self.hidden_layer1 = nn.Sequential(\n",
        "            nn.Linear(input_dim, 2048),\n",
        "            nn.LeakyReLU(0.2),\n",
        "            nn.Dropout(0.3)\n",
        "        )\n",
        "\n",
        "        self.hidden_layer2 = nn.Sequential(\n",
        "            nn.Linear(2048, 1024),\n",
        "            nn.LeakyReLU(0.2),\n",
        "            nn.Dropout(0.3)\n",
        "        )\n",
        "\n",
        "        self.hidden_layer3 = nn.Sequential(\n",
        "            nn.Linear(1024, 512),\n",
        "            nn.LeakyReLU(0.2),\n",
        "            nn.Dropout(0.3)\n",
        "        )\n",
        "\n",
        "        self.hidden_layer4 = nn.Sequential(\n",
        "            nn.Linear(512, output_dim),\n",
        "            nn.Sigmoid()\n",
        "        )\n",
        "\n",
        "    def forward(self, x, metadata):\n",
        "        # m = self.meta_embedding(metadata)\n",
        "        x = torch.cat([x, metadata.to(torch.float)], 1)\n",
        "\n",
        "        output = self.hidden_layer1(x)\n",
        "        output = self.hidden_layer2(output)\n",
        "        output = self.hidden_layer3(output)\n",
        "        output = self.hidden_layer4(output)\n",
        "\n",
        "        return output.to(device)\n",
        "\n",
        "discriminator = DiscriminatorModel()\n",
        "generator = GeneratorModel()\n",
        "discriminator.to(device)\n",
        "generator.to(device)"
      ],
      "execution_count": null,
      "outputs": [
        {
          "output_type": "execute_result",
          "data": {
            "text/plain": [
              "GeneratorModel(\n",
              "  (meta_embedding): Embedding(8, 10)\n",
              "  (hidden_layer1): Sequential(\n",
              "    (0): Linear(in_features=264, out_features=512, bias=True)\n",
              "    (1): LeakyReLU(negative_slope=0.2)\n",
              "  )\n",
              "  (hidden_layer2): Sequential(\n",
              "    (0): Linear(in_features=512, out_features=1024, bias=True)\n",
              "    (1): LeakyReLU(negative_slope=0.2)\n",
              "  )\n",
              "  (hidden_layer3): Sequential(\n",
              "    (0): Linear(in_features=1024, out_features=2048, bias=True)\n",
              "    (1): LeakyReLU(negative_slope=0.2)\n",
              "  )\n",
              "  (hidden_layer4): Sequential(\n",
              "    (0): Linear(in_features=2048, out_features=12288, bias=True)\n",
              "    (1): Tanh()\n",
              "  )\n",
              ")"
            ]
          },
          "metadata": {},
          "execution_count": 14
        }
      ]
    },
    {
      "cell_type": "markdown",
      "metadata": {
        "id": "IMuVQHnZQhU9"
      },
      "source": [
        "# Initilize Optimizers, loss function\n"
      ]
    },
    {
      "cell_type": "code",
      "metadata": {
        "id": "j1GQkiSFxzPe"
      },
      "source": [
        "discriminator_optimizer = optim.Adam(discriminator.parameters(), lr=0.0002)\n",
        "generator_optimizer = optim.Adam(generator.parameters(), lr=0.0002)\n",
        "\n",
        "loss = nn.BCELoss()\n"
      ],
      "execution_count": null,
      "outputs": []
    },
    {
      "cell_type": "markdown",
      "metadata": {
        "id": "OLvXAR7Px1ja"
      },
      "source": [
        "# Training Loop"
      ]
    },
    {
      "cell_type": "code",
      "metadata": {
        "id": "8sp6taoHSioH",
        "colab": {
          "base_uri": "https://localhost:8080/"
        },
        "outputId": "c2b9a1b2-4e72-4b9a-8372-8ef5a427c0e4"
      },
      "source": [
        "n_epochs = training_parameters[\"n_epochs\"]\n",
        "batch_size = training_parameters[\"batch_size\"]\n",
        "\n",
        "for epoch_idx in range(n_epochs):\n",
        "    G_loss = []\n",
        "    D_loss = []\n",
        "    for batch_idx, data_input in enumerate(data_loader):\n",
        "        noise = torch.randn(batch_size,256).to(device)\n",
        "        fake_metadata = torch.from_numpy(raw_metadata.sample(batch_size).to_numpy()[:,1:]).to(device)\n",
        "        generated_data = generator(noise, fake_metadata) # batch_size x 64 X 64\n",
        "        \n",
        "        # Discriminator\n",
        "        # print(data_input[1])\n",
        "        true_data = data_input[0].view(batch_size, 3*64*64).to(device) # batch_size X 64 X 64\n",
        "        metadata = data_input[1] # batch_size\n",
        "        true_labels = torch.ones(batch_size).to(device)\n",
        "        \n",
        "        discriminator_optimizer.zero_grad()\n",
        "\n",
        "        discriminator_output_for_true_data = discriminator(true_data, metadata).view(batch_size)\n",
        "        true_discriminator_loss = loss(discriminator_output_for_true_data, true_labels)\n",
        "\n",
        "        discriminator_output_for_generated_data = discriminator(generated_data.detach(), fake_metadata).view(batch_size)\n",
        "        generator_discriminator_loss = loss(\n",
        "            discriminator_output_for_generated_data, torch.zeros(batch_size).to(device)\n",
        "        )\n",
        "        discriminator_loss = (\n",
        "            true_discriminator_loss + generator_discriminator_loss\n",
        "        ) / 2\n",
        "        \n",
        "        discriminator_loss.backward()\n",
        "        discriminator_optimizer.step()\n",
        "\n",
        "        D_loss.append(discriminator_loss.data.item())\n",
        "        \n",
        "        \n",
        "        # Generator\n",
        "        generator_optimizer.zero_grad()\n",
        "        # It's a choice to generate the data again\n",
        "        generated_data = generator(noise, fake_metadata) # batch_size X 784\n",
        "        discriminator_output_on_generated_data = discriminator(generated_data, fake_metadata).view(batch_size)\n",
        "        generator_loss = loss(discriminator_output_on_generated_data, true_labels)\n",
        "        generator_loss.backward()\n",
        "        generator_optimizer.step()\n",
        "        \n",
        "        G_loss.append(generator_loss.data.item())\n",
        "        if ((batch_idx + 1)% 500 == 0 and (epoch_idx + 1)%10 == 0):\n",
        "            print(\"Training Steps Completed: \", batch_idx)\n",
        "            \n",
        "            with torch.no_grad():\n",
        "                noise = torch.randn(batch_size,100).to(device)\n",
        "                generated_data = generator(noise).cpu().view(batch_size, 28, 28)\n",
        "                for x in generated_data:\n",
        "                    plt.imshow(x.detach().numpy(), interpolation='nearest',cmap='gray')\n",
        "                    plt.show()\n",
        "\n",
        "                    break\n",
        "\n",
        "\n",
        "    print('[%d/%d]: loss_d: %.3f, loss_g: %.3f' % (\n",
        "            (epoch_idx), n_epochs, torch.mean(torch.FloatTensor(D_loss)), torch.mean(torch.FloatTensor(G_loss))))\n",
        "    "
      ],
      "execution_count": null,
      "outputs": [
        {
          "output_type": "stream",
          "name": "stdout",
          "text": [
            "[0/100]: loss_d: 32.558, loss_g: 2.507\n",
            "[1/100]: loss_d: 50.200, loss_g: 1.799\n",
            "[2/100]: loss_d: 50.057, loss_g: 2.836\n",
            "[3/100]: loss_d: 50.018, loss_g: 4.883\n",
            "[4/100]: loss_d: 50.012, loss_g: 7.414\n",
            "[5/100]: loss_d: 50.001, loss_g: 8.974\n",
            "[6/100]: loss_d: 50.000, loss_g: 9.257\n",
            "[7/100]: loss_d: 50.000, loss_g: 9.134\n",
            "[8/100]: loss_d: 50.001, loss_g: 9.638\n",
            "[9/100]: loss_d: 50.000, loss_g: 10.626\n",
            "[10/100]: loss_d: 50.000, loss_g: 10.419\n",
            "[11/100]: loss_d: 50.000, loss_g: 10.715\n",
            "[12/100]: loss_d: 50.000, loss_g: 10.820\n",
            "[13/100]: loss_d: 50.000, loss_g: 11.081\n",
            "[14/100]: loss_d: 50.000, loss_g: 11.345\n",
            "[15/100]: loss_d: 50.000, loss_g: 11.451\n",
            "[16/100]: loss_d: 50.000, loss_g: 11.597\n",
            "[17/100]: loss_d: 50.000, loss_g: 11.989\n",
            "[18/100]: loss_d: 50.000, loss_g: 12.670\n",
            "[19/100]: loss_d: 50.000, loss_g: 13.104\n",
            "[20/100]: loss_d: 50.000, loss_g: 13.241\n",
            "[21/100]: loss_d: 50.000, loss_g: 13.552\n",
            "[22/100]: loss_d: 50.000, loss_g: 13.809\n",
            "[23/100]: loss_d: 50.000, loss_g: 13.819\n",
            "[24/100]: loss_d: 50.000, loss_g: 14.179\n",
            "[25/100]: loss_d: 50.000, loss_g: 14.495\n",
            "[26/100]: loss_d: 50.000, loss_g: 14.665\n",
            "[27/100]: loss_d: 50.000, loss_g: 14.926\n",
            "[28/100]: loss_d: 50.000, loss_g: 15.006\n",
            "[29/100]: loss_d: 50.000, loss_g: 15.222\n",
            "[30/100]: loss_d: 50.000, loss_g: 15.286\n",
            "[31/100]: loss_d: 50.000, loss_g: 15.371\n",
            "[32/100]: loss_d: 50.000, loss_g: 15.350\n",
            "[33/100]: loss_d: 50.000, loss_g: 15.508\n",
            "[34/100]: loss_d: 50.000, loss_g: 15.546\n",
            "[35/100]: loss_d: 50.000, loss_g: 15.640\n",
            "[36/100]: loss_d: 50.000, loss_g: 15.837\n",
            "[37/100]: loss_d: 50.000, loss_g: 15.829\n",
            "[38/100]: loss_d: 50.000, loss_g: 15.850\n",
            "[39/100]: loss_d: 50.000, loss_g: 15.771\n",
            "[40/100]: loss_d: 50.000, loss_g: 15.762\n",
            "[41/100]: loss_d: 50.000, loss_g: 15.717\n",
            "[42/100]: loss_d: 50.000, loss_g: 15.619\n",
            "[43/100]: loss_d: 50.000, loss_g: 15.232\n",
            "[44/100]: loss_d: 50.000, loss_g: 12.797\n",
            "[45/100]: loss_d: 50.000, loss_g: 12.673\n",
            "[46/100]: loss_d: 50.000, loss_g: 15.404\n",
            "[47/100]: loss_d: 50.000, loss_g: 14.611\n",
            "[48/100]: loss_d: 50.000, loss_g: 12.496\n",
            "[49/100]: loss_d: 50.000, loss_g: 12.272\n",
            "[50/100]: loss_d: 50.000, loss_g: 12.654\n",
            "[51/100]: loss_d: 50.000, loss_g: 12.687\n",
            "[52/100]: loss_d: 50.000, loss_g: 13.794\n",
            "[53/100]: loss_d: 50.000, loss_g: 15.613\n",
            "[54/100]: loss_d: 50.000, loss_g: 15.793\n",
            "[55/100]: loss_d: 50.000, loss_g: 15.773\n",
            "[56/100]: loss_d: 50.000, loss_g: 15.212\n",
            "[57/100]: loss_d: 50.000, loss_g: 13.025\n",
            "[58/100]: loss_d: 50.000, loss_g: 13.579\n",
            "[59/100]: loss_d: 50.000, loss_g: 14.094\n",
            "[60/100]: loss_d: 50.000, loss_g: 13.645\n",
            "[61/100]: loss_d: 50.000, loss_g: 12.793\n",
            "[62/100]: loss_d: 50.000, loss_g: 15.142\n",
            "[63/100]: loss_d: 50.000, loss_g: 15.438\n",
            "[64/100]: loss_d: 50.000, loss_g: 13.709\n",
            "[65/100]: loss_d: 50.000, loss_g: 13.631\n",
            "[66/100]: loss_d: 50.000, loss_g: 14.704\n",
            "[67/100]: loss_d: 50.000, loss_g: 14.582\n",
            "[68/100]: loss_d: 50.000, loss_g: 14.310\n",
            "[69/100]: loss_d: 50.000, loss_g: 13.274\n",
            "[70/100]: loss_d: 50.000, loss_g: 13.888\n",
            "[71/100]: loss_d: 50.000, loss_g: 14.986\n",
            "[72/100]: loss_d: 50.000, loss_g: 14.901\n",
            "[73/100]: loss_d: 50.000, loss_g: 15.188\n",
            "[74/100]: loss_d: 50.000, loss_g: 15.251\n",
            "[75/100]: loss_d: 50.000, loss_g: 15.535\n",
            "[76/100]: loss_d: 50.000, loss_g: 15.803\n",
            "[77/100]: loss_d: 50.000, loss_g: 16.017\n",
            "[78/100]: loss_d: 50.000, loss_g: 16.141\n",
            "[79/100]: loss_d: 50.000, loss_g: 16.487\n",
            "[80/100]: loss_d: 50.000, loss_g: 16.806\n",
            "[81/100]: loss_d: 50.000, loss_g: 17.078\n",
            "[82/100]: loss_d: 50.000, loss_g: 17.122\n",
            "[83/100]: loss_d: 50.000, loss_g: 17.234\n",
            "[84/100]: loss_d: 50.000, loss_g: 17.416\n",
            "[85/100]: loss_d: 50.000, loss_g: 17.579\n",
            "[86/100]: loss_d: 50.000, loss_g: 17.921\n",
            "[87/100]: loss_d: 50.000, loss_g: 17.942\n",
            "[88/100]: loss_d: 50.000, loss_g: 18.157\n",
            "[89/100]: loss_d: 50.000, loss_g: 18.017\n",
            "[90/100]: loss_d: 50.000, loss_g: 18.225\n",
            "[91/100]: loss_d: 50.000, loss_g: 18.182\n",
            "[92/100]: loss_d: 50.000, loss_g: 18.244\n",
            "[93/100]: loss_d: 50.000, loss_g: 18.285\n",
            "[94/100]: loss_d: 50.000, loss_g: 18.329\n",
            "[95/100]: loss_d: 50.000, loss_g: 18.446\n",
            "[96/100]: loss_d: 50.000, loss_g: 18.429\n",
            "[97/100]: loss_d: 50.000, loss_g: 18.533\n",
            "[98/100]: loss_d: 50.000, loss_g: 18.728\n",
            "[99/100]: loss_d: 50.000, loss_g: 18.809\n"
          ]
        }
      ]
    },
    {
      "cell_type": "code",
      "source": [
        "with torch.no_grad():\n",
        "  noise = torch.randn(batch_size,256).to(device)\n",
        "  generated_data = generator(noise, torch.from_numpy(raw_metadata.sample(batch_size).to_numpy()[:,1:]).to(device)).cpu().view(batch_size, 64, 64, 3)\n",
        "  for x in generated_data:\n",
        "      plt.imshow(x.detach().numpy(), interpolation='nearest')\n",
        "      plt.show()\n",
        "      break"
      ],
      "metadata": {
        "colab": {
          "base_uri": "https://localhost:8080/",
          "height": 469
        },
        "id": "b_MIXn4p5wJ-",
        "outputId": "969e9466-1ef8-466e-d360-e6f6aad59181"
      },
      "execution_count": null,
      "outputs": [
        {
          "output_type": "stream",
          "name": "stderr",
          "text": [
            "WARNING:matplotlib.image:Clipping input data to the valid range for imshow with RGB data ([0..1] for floats or [0..255] for integers).\n"
          ]
        },
        {
          "output_type": "display_data",
          "data": {
            "text/plain": [
              "<Figure size 640x480 with 1 Axes>"
            ],
            "image/png": "[encoded data removed]"
          },
          "metadata": {}
        }
      ]
    }
  ]
}